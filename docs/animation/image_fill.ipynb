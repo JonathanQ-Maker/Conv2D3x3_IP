{
 "cells": [
  {
   "cell_type": "code",
   "execution_count": 2,
   "metadata": {},
   "outputs": [],
   "source": [
    "from manim import *"
   ]
  },
  {
   "cell_type": "code",
   "execution_count": 3,
   "metadata": {},
   "outputs": [
    {
     "name": "stderr",
     "output_type": "stream",
     "text": [
      "                                                                                     \r"
     ]
    },
    {
     "data": {
      "text/html": [
       "<video src=\"media\\jupyter\\ImageFillNaive@2024-04-13@19-46-48.mp4\" controls autoplay loop style=\"max-width: 60%;\"  >\n",
       "      Your browser does not support the <code>video</code> element.\n",
       "    </video>"
      ],
      "text/plain": [
       "<IPython.core.display.Video object>"
      ]
     },
     "metadata": {},
     "output_type": "display_data"
    }
   ],
   "source": [
    "%%manim -ql -v WARNING ImageFillNaive\n",
    "class ImageFillNaive(ThreeDScene):\n",
    "   HEIGHT = 4\n",
    "   WIDTH = 4\n",
    "   CHANNELS = 3\n",
    "\n",
    "   def construct(self):\n",
    "      self.set_camera_orientation(phi=75*DEGREES, theta=-45*DEGREES)\n",
    "\n",
    "      axes = ThreeDAxes()\n",
    "\n",
    "      channel_colors = [RED, GREEN, BLUE]\n",
    "      fill_in_anim = []\n",
    "      for h in range(self.HEIGHT):\n",
    "         for w in range(self.WIDTH):\n",
    "            for c in range(self.CHANNELS):\n",
    "               cube = Cube(side_length=1, fill_opacity=1, fill_color=channel_colors[c % len(channel_colors)], stroke_width=1).move_to([w-self.WIDTH/2, -c+self.CHANNELS/2, -h+self.HEIGHT/2])\n",
    "               fill_in_anim.append(FadeIn(cube))\n",
    "      self.play(AnimationGroup(*fill_in_anim, lag_ratio=0.5))\n",
    "      self.wait()"
   ]
  }
 ],
 "metadata": {
  "kernelspec": {
   "display_name": ".venv",
   "language": "python",
   "name": "python3"
  },
  "language_info": {
   "codemirror_mode": {
    "name": "ipython",
    "version": 3
   },
   "file_extension": ".py",
   "mimetype": "text/x-python",
   "name": "python",
   "nbconvert_exporter": "python",
   "pygments_lexer": "ipython3",
   "version": "3.12.2"
  }
 },
 "nbformat": 4,
 "nbformat_minor": 2
}
